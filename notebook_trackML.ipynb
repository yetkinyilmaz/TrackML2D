{
 "cells": [
  {
   "cell_type": "code",
   "execution_count": 1,
   "metadata": {
    "collapsed": true
   },
   "outputs": [],
   "source": [
    "import pandas as pd"
   ]
  },
  {
   "cell_type": "code",
   "execution_count": 2,
   "metadata": {
    "collapsed": true
   },
   "outputs": [],
   "source": [
    "import numpy as np"
   ]
  },
  {
   "cell_type": "code",
   "execution_count": 3,
   "metadata": {
    "collapsed": true
   },
   "outputs": [],
   "source": [
    "import matplotlib.pyplot as plt"
   ]
  },
  {
   "cell_type": "code",
   "execution_count": 4,
   "metadata": {
    "collapsed": false
   },
   "outputs": [],
   "source": [
    "import tracking"
   ]
  },
  {
   "cell_type": "code",
   "execution_count": 5,
   "metadata": {
    "collapsed": true
   },
   "outputs": [],
   "source": [
    "import transform"
   ]
  },
  {
   "cell_type": "code",
   "execution_count": 6,
   "metadata": {
    "collapsed": true
   },
   "outputs": [],
   "source": [
    "tracker = tracking.ClusterDBSCAN()"
   ]
  },
  {
   "cell_type": "code",
   "execution_count": null,
   "metadata": {
    "collapsed": true
   },
   "outputs": [],
   "source": []
  },
  {
   "cell_type": "code",
   "execution_count": null,
   "metadata": {
    "collapsed": true
   },
   "outputs": [],
   "source": []
  },
  {
   "cell_type": "code",
   "execution_count": 7,
   "metadata": {
    "collapsed": false
   },
   "outputs": [],
   "source": [
    "df = pd.read_csv(\"test.csv\")"
   ]
  },
  {
   "cell_type": "code",
   "execution_count": null,
   "metadata": {
    "collapsed": false
   },
   "outputs": [],
   "source": []
  },
  {
   "cell_type": "code",
   "execution_count": 8,
   "metadata": {
    "collapsed": false
   },
   "outputs": [],
   "source": [
    "y_df = df[['particle']]\n",
    "X_df = df.drop(['hit','particle'], axis=1)"
   ]
  },
  {
   "cell_type": "code",
   "execution_count": 9,
   "metadata": {
    "collapsed": false
   },
   "outputs": [],
   "source": [
    "X_train_df = X_df.copy()\n",
    "y_train_df = y_df.copy()\n",
    "X_test_df = X_df.copy()\n",
    "y_test_df = y_df.copy()\n"
   ]
  },
  {
   "cell_type": "code",
   "execution_count": 10,
   "metadata": {
    "collapsed": false
   },
   "outputs": [
    {
     "name": "stdout",
     "output_type": "stream",
     "text": [
      "[[  1.00000000e-04   2.15168034e+00]\n",
      " [  2.00000000e-04   2.11422596e+00]\n",
      " [  3.00000000e-04   2.07667501e+00]\n",
      " [  4.00000000e-04   2.03896640e+00]\n",
      " [  5.00000000e-04   2.00104232e+00]\n",
      " [  6.00000000e-04   1.96284291e+00]\n",
      " [  7.00000000e-04   1.92430474e+00]\n",
      " [  8.00000000e-04   1.88535957e+00]\n",
      " [  1.00000000e-04  -8.95546550e-02]\n",
      " [  2.00000000e-04  -4.17979451e-02]\n",
      " [  3.00000000e-04   6.18187873e-03]\n",
      " [  4.00000000e-04   5.44976643e-02]\n",
      " [  5.00000000e-04   1.03271692e-01]\n",
      " [  6.00000000e-04   1.52637008e-01]\n",
      " [  7.00000000e-04   2.02740978e-01]\n",
      " [  8.00000000e-04   2.53750074e-01]\n",
      " [  1.00000000e-04  -5.03434440e-01]\n",
      " [  2.00000000e-04  -5.03444562e-01]\n",
      " [  3.00000000e-04  -5.03447936e-01]\n",
      " [  4.00000000e-04  -5.03449623e-01]\n",
      " [  5.00000000e-04  -5.03450635e-01]\n",
      " [  6.00000000e-04  -5.03451310e-01]\n",
      " [  7.00000000e-04  -5.03451792e-01]\n",
      " [  8.00000000e-04  -5.03452154e-01]\n",
      " [  1.00000000e-04  -8.03761788e-01]\n",
      " [  2.00000000e-04  -8.37569423e-01]\n",
      " [  3.00000000e-04  -8.71461317e-01]\n",
      " [  4.00000000e-04  -9.05472333e-01]\n",
      " [  5.00000000e-04  -9.39642551e-01]\n",
      " [  6.00000000e-04  -9.74014430e-01]\n",
      " [  7.00000000e-04  -1.00863286e+00]\n",
      " [  8.00000000e-04  -1.04354563e+00]\n",
      " [  1.00000000e-04   1.25079416e-01]\n",
      " [  2.00000000e-04   1.59326101e-01]\n",
      " [  3.00000000e-04   1.93644160e-01]\n",
      " [  4.00000000e-04   2.28081813e-01]\n",
      " [  5.00000000e-04   2.62683104e-01]\n",
      " [  6.00000000e-04   2.97492987e-01]\n",
      " [  7.00000000e-04   3.32558545e-01]\n",
      " [  8.00000000e-04   3.67929791e-01]\n",
      " [  1.00000000e-04   3.39671070e-01]\n",
      " [  2.00000000e-04   3.39660612e-01]\n",
      " [  3.00000000e-04   3.39657126e-01]\n",
      " [  4.00000000e-04   3.39655383e-01]\n",
      " [  5.00000000e-04   3.39654337e-01]\n",
      " [  6.00000000e-04   3.39653640e-01]\n",
      " [  7.00000000e-04   3.39653142e-01]\n",
      " [  8.00000000e-04   3.39652769e-01]\n",
      " [  1.00000000e-04  -1.56519831e+00]\n",
      " [  2.00000000e-04  -1.51115986e+00]\n",
      " [  3.00000000e-04  -1.45679334e+00]\n",
      " [  4.00000000e-04  -1.40193543e+00]\n",
      " [  5.00000000e-04  -1.34640345e+00]\n",
      " [  6.00000000e-04  -1.28999361e+00]\n",
      " [  7.00000000e-04  -1.23247355e+00]\n",
      " [  8.00000000e-04  -1.17357157e+00]\n",
      " [  1.00000000e-04   4.20842997e-01]\n",
      " [  2.00000000e-04   4.20842566e-01]\n",
      " [  3.00000000e-04   4.20842422e-01]\n",
      " [  4.00000000e-04   4.20842350e-01]\n",
      " [  5.00000000e-04   4.20842307e-01]\n",
      " [  6.00000000e-04   4.20842279e-01]\n",
      " [  7.00000000e-04   4.20842258e-01]\n",
      " [  8.00000000e-04   4.20842243e-01]\n",
      " [  1.00000000e-04   8.13415862e-01]\n",
      " [  2.00000000e-04   8.67935809e-01]\n",
      " [  3.00000000e-04   9.22776628e-01]\n",
      " [  4.00000000e-04   9.78117799e-01]\n",
      " [  5.00000000e-04   1.03414954e+00]\n",
      " [  6.00000000e-04   1.09108256e+00]\n",
      " [  7.00000000e-04   1.14915708e+00]\n",
      " [  8.00000000e-04   1.20865455e+00]\n",
      " [  1.00000000e-04   3.78253266e-01]\n",
      " [  2.00000000e-04   2.93475485e-01]\n",
      " [  3.00000000e-04   2.07442316e-01]\n",
      " [  4.00000000e-04   1.19426550e-01]\n",
      " [  5.00000000e-04   2.85420618e-02]\n",
      " [  6.00000000e-04  -6.63574889e-02]\n",
      " [  7.00000000e-04  -1.66861941e-01]\n",
      " [  8.00000000e-04  -2.75365955e-01]]\n"
     ]
    }
   ],
   "source": [
    "tracker.fit(X_train_df.values, y_train_df.values)"
   ]
  },
  {
   "cell_type": "code",
   "execution_count": 11,
   "metadata": {
    "collapsed": false
   },
   "outputs": [
    {
     "name": "stdout",
     "output_type": "stream",
     "text": [
      "[[  1.00000000e-04   2.15168034e+00]\n",
      " [  2.00000000e-04   2.11422596e+00]\n",
      " [  3.00000000e-04   2.07667501e+00]\n",
      " [  4.00000000e-04   2.03896640e+00]\n",
      " [  5.00000000e-04   2.00104232e+00]\n",
      " [  6.00000000e-04   1.96284291e+00]\n",
      " [  7.00000000e-04   1.92430474e+00]\n",
      " [  8.00000000e-04   1.88535957e+00]\n",
      " [  1.00000000e-04  -8.95546550e-02]\n",
      " [  2.00000000e-04  -4.17979451e-02]\n",
      " [  3.00000000e-04   6.18187873e-03]\n",
      " [  4.00000000e-04   5.44976643e-02]\n",
      " [  5.00000000e-04   1.03271692e-01]\n",
      " [  6.00000000e-04   1.52637008e-01]\n",
      " [  7.00000000e-04   2.02740978e-01]\n",
      " [  8.00000000e-04   2.53750074e-01]\n",
      " [  1.00000000e-04  -5.03434440e-01]\n",
      " [  2.00000000e-04  -5.03444562e-01]\n",
      " [  3.00000000e-04  -5.03447936e-01]\n",
      " [  4.00000000e-04  -5.03449623e-01]\n",
      " [  5.00000000e-04  -5.03450635e-01]\n",
      " [  6.00000000e-04  -5.03451310e-01]\n",
      " [  7.00000000e-04  -5.03451792e-01]\n",
      " [  8.00000000e-04  -5.03452154e-01]\n",
      " [  1.00000000e-04  -8.03761788e-01]\n",
      " [  2.00000000e-04  -8.37569423e-01]\n",
      " [  3.00000000e-04  -8.71461317e-01]\n",
      " [  4.00000000e-04  -9.05472333e-01]\n",
      " [  5.00000000e-04  -9.39642551e-01]\n",
      " [  6.00000000e-04  -9.74014430e-01]\n",
      " [  7.00000000e-04  -1.00863286e+00]\n",
      " [  8.00000000e-04  -1.04354563e+00]\n",
      " [  1.00000000e-04   1.25079416e-01]\n",
      " [  2.00000000e-04   1.59326101e-01]\n",
      " [  3.00000000e-04   1.93644160e-01]\n",
      " [  4.00000000e-04   2.28081813e-01]\n",
      " [  5.00000000e-04   2.62683104e-01]\n",
      " [  6.00000000e-04   2.97492987e-01]\n",
      " [  7.00000000e-04   3.32558545e-01]\n",
      " [  8.00000000e-04   3.67929791e-01]\n",
      " [  1.00000000e-04   3.39671070e-01]\n",
      " [  2.00000000e-04   3.39660612e-01]\n",
      " [  3.00000000e-04   3.39657126e-01]\n",
      " [  4.00000000e-04   3.39655383e-01]\n",
      " [  5.00000000e-04   3.39654337e-01]\n",
      " [  6.00000000e-04   3.39653640e-01]\n",
      " [  7.00000000e-04   3.39653142e-01]\n",
      " [  8.00000000e-04   3.39652769e-01]\n",
      " [  1.00000000e-04  -1.56519831e+00]\n",
      " [  2.00000000e-04  -1.51115986e+00]\n",
      " [  3.00000000e-04  -1.45679334e+00]\n",
      " [  4.00000000e-04  -1.40193543e+00]\n",
      " [  5.00000000e-04  -1.34640345e+00]\n",
      " [  6.00000000e-04  -1.28999361e+00]\n",
      " [  7.00000000e-04  -1.23247355e+00]\n",
      " [  8.00000000e-04  -1.17357157e+00]\n",
      " [  1.00000000e-04   4.20842997e-01]\n",
      " [  2.00000000e-04   4.20842566e-01]\n",
      " [  3.00000000e-04   4.20842422e-01]\n",
      " [  4.00000000e-04   4.20842350e-01]\n",
      " [  5.00000000e-04   4.20842307e-01]\n",
      " [  6.00000000e-04   4.20842279e-01]\n",
      " [  7.00000000e-04   4.20842258e-01]\n",
      " [  8.00000000e-04   4.20842243e-01]\n",
      " [  1.00000000e-04   8.13415862e-01]\n",
      " [  2.00000000e-04   8.67935809e-01]\n",
      " [  3.00000000e-04   9.22776628e-01]\n",
      " [  4.00000000e-04   9.78117799e-01]\n",
      " [  5.00000000e-04   1.03414954e+00]\n",
      " [  6.00000000e-04   1.09108256e+00]\n",
      " [  7.00000000e-04   1.14915708e+00]\n",
      " [  8.00000000e-04   1.20865455e+00]\n",
      " [  1.00000000e-04   3.78253266e-01]\n",
      " [  2.00000000e-04   2.93475485e-01]\n",
      " [  3.00000000e-04   2.07442316e-01]\n",
      " [  4.00000000e-04   1.19426550e-01]\n",
      " [  5.00000000e-04   2.85420618e-02]\n",
      " [  6.00000000e-04  -6.63574889e-02]\n",
      " [  7.00000000e-04  -1.66861941e-01]\n",
      " [  8.00000000e-04  -2.75365955e-01]]\n"
     ]
    }
   ],
   "source": [
    "y_predicted = tracker.predict(X_test_df.values)"
   ]
  },
  {
   "cell_type": "code",
   "execution_count": 13,
   "metadata": {
    "collapsed": false
   },
   "outputs": [
    {
     "data": {
      "text/plain": [
       "array([-1, -1, -1, -1, -1, -1, -1, -1, -1, -1, -1, -1, -1, -1, -1, -1,  0,\n",
       "        0,  0,  0,  0,  0,  0,  0, -1, -1, -1, -1, -1, -1, -1, -1, -1, -1,\n",
       "       -1, -1, -1, -1,  1, -1,  1,  1,  1,  1,  1,  1,  1,  1, -1, -1, -1,\n",
       "       -1, -1, -1, -1, -1,  2,  2,  2,  2,  2,  2,  2,  2, -1, -1, -1, -1,\n",
       "       -1, -1, -1, -1, -1, -1, -1, -1, -1, -1, -1, -1])"
      ]
     },
     "execution_count": 13,
     "metadata": {},
     "output_type": "execute_result"
    }
   ],
   "source": [
    "y_predicted"
   ]
  },
  {
   "cell_type": "code",
   "execution_count": 14,
   "metadata": {
    "collapsed": true
   },
   "outputs": [],
   "source": [
    "y_test = y_test_df.values"
   ]
  },
  {
   "cell_type": "code",
   "execution_count": 16,
   "metadata": {
    "collapsed": false
   },
   "outputs": [],
   "source": [
    "y_pred = y_predicted"
   ]
  },
  {
   "cell_type": "code",
   "execution_count": 18,
   "metadata": {
    "collapsed": false
   },
   "outputs": [
    {
     "data": {
      "text/plain": [
       "10"
      ]
     },
     "execution_count": 18,
     "metadata": {},
     "output_type": "execute_result"
    }
   ],
   "source": [
    "len(np.unique(y_test))"
   ]
  },
  {
   "cell_type": "code",
   "execution_count": 26,
   "metadata": {
    "collapsed": false
   },
   "outputs": [],
   "source": [
    "y_test\n",
    "particle=0"
   ]
  },
  {
   "cell_type": "raw",
   "metadata": {},
   "source": []
  },
  {
   "cell_type": "code",
   "execution_count": 36,
   "metadata": {
    "collapsed": false
   },
   "outputs": [],
   "source": [
    "particle=8\n",
    "true_hits = y_test[y_test[:,0] == particle]"
   ]
  },
  {
   "cell_type": "code",
   "execution_count": 37,
   "metadata": {
    "collapsed": false
   },
   "outputs": [
    {
     "data": {
      "text/plain": [
       "array([[8],\n",
       "       [8],\n",
       "       [8],\n",
       "       [8],\n",
       "       [8],\n",
       "       [8],\n",
       "       [8],\n",
       "       [8]])"
      ]
     },
     "execution_count": 37,
     "metadata": {},
     "output_type": "execute_result"
    }
   ],
   "source": [
    "true_hits"
   ]
  },
  {
   "cell_type": "code",
   "execution_count": 38,
   "metadata": {
    "collapsed": false
   },
   "outputs": [],
   "source": [
    "found_hits = y_pred[y_test[:,0] == particle]"
   ]
  },
  {
   "cell_type": "code",
   "execution_count": 39,
   "metadata": {
    "collapsed": false
   },
   "outputs": [
    {
     "data": {
      "text/plain": [
       "array([2, 2, 2, 2, 2, 2, 2, 2])"
      ]
     },
     "execution_count": 39,
     "metadata": {},
     "output_type": "execute_result"
    }
   ],
   "source": [
    "found_hits"
   ]
  },
  {
   "cell_type": "code",
   "execution_count": 40,
   "metadata": {
    "collapsed": false
   },
   "outputs": [
    {
     "data": {
      "text/plain": [
       "array([ 1,  2,  3,  4,  5,  6,  7,  8,  9, 10])"
      ]
     },
     "execution_count": 40,
     "metadata": {},
     "output_type": "execute_result"
    }
   ],
   "source": [
    "np.unique(y_test)"
   ]
  },
  {
   "cell_type": "code",
   "execution_count": 43,
   "metadata": {
    "collapsed": true
   },
   "outputs": [],
   "source": [
    "nsubcluster=len(np.unique(found_hits[found_hits[:] >= 0]))"
   ]
  },
  {
   "cell_type": "code",
   "execution_count": 44,
   "metadata": {
    "collapsed": false
   },
   "outputs": [
    {
     "data": {
      "text/plain": [
       "1"
      ]
     },
     "execution_count": 44,
     "metadata": {},
     "output_type": "execute_result"
    }
   ],
   "source": [
    "nsubcluster"
   ]
  },
  {
   "cell_type": "code",
   "execution_count": 45,
   "metadata": {
    "collapsed": false
   },
   "outputs": [
    {
     "data": {
      "text/plain": [
       "array([0, 0, 8])"
      ]
     },
     "execution_count": 45,
     "metadata": {},
     "output_type": "execute_result"
    }
   ],
   "source": [
    "np.bincount(found_hits[found_hits[:] >= 0])"
   ]
  },
  {
   "cell_type": "code",
   "execution_count": 46,
   "metadata": {
    "collapsed": false
   },
   "outputs": [
    {
     "data": {
      "text/plain": [
       "array([2, 2, 2, 2, 2, 2, 2, 2])"
      ]
     },
     "execution_count": 46,
     "metadata": {},
     "output_type": "execute_result"
    }
   ],
   "source": [
    "found_hits[found_hits[:] >= 0]"
   ]
  },
  {
   "cell_type": "code",
   "execution_count": 47,
   "metadata": {
    "collapsed": false
   },
   "outputs": [
    {
     "data": {
      "text/plain": [
       "array([0, 0, 8])"
      ]
     },
     "execution_count": 47,
     "metadata": {},
     "output_type": "execute_result"
    }
   ],
   "source": [
    "np.bincount(found_hits[found_hits[:] >= 0])"
   ]
  },
  {
   "cell_type": "code",
   "execution_count": 50,
   "metadata": {
    "collapsed": false
   },
   "outputs": [],
   "source": [
    "maxcluster = np.argmax(np.bincount(found_hits[found_hits[:] >= 0]))"
   ]
  },
  {
   "cell_type": "code",
   "execution_count": 51,
   "metadata": {
    "collapsed": false
   },
   "outputs": [
    {
     "data": {
      "text/plain": [
       "2"
      ]
     },
     "execution_count": 51,
     "metadata": {},
     "output_type": "execute_result"
    }
   ],
   "source": [
    "maxcluster"
   ]
  },
  {
   "cell_type": "code",
   "execution_count": null,
   "metadata": {
    "collapsed": true
   },
   "outputs": [],
   "source": []
  },
  {
   "cell_type": "code",
   "execution_count": null,
   "metadata": {
    "collapsed": true
   },
   "outputs": [],
   "source": []
  },
  {
   "cell_type": "code",
   "execution_count": null,
   "metadata": {
    "collapsed": true
   },
   "outputs": [],
   "source": []
  },
  {
   "cell_type": "code",
   "execution_count": null,
   "metadata": {
    "collapsed": true
   },
   "outputs": [],
   "source": []
  },
  {
   "cell_type": "code",
   "execution_count": null,
   "metadata": {
    "collapsed": true
   },
   "outputs": [],
   "source": []
  },
  {
   "cell_type": "code",
   "execution_count": null,
   "metadata": {
    "collapsed": true
   },
   "outputs": [],
   "source": []
  },
  {
   "cell_type": "code",
   "execution_count": null,
   "metadata": {
    "collapsed": true
   },
   "outputs": [],
   "source": []
  },
  {
   "cell_type": "code",
   "execution_count": null,
   "metadata": {
    "collapsed": true
   },
   "outputs": [],
   "source": []
  },
  {
   "cell_type": "code",
   "execution_count": null,
   "metadata": {
    "collapsed": true
   },
   "outputs": [],
   "source": []
  },
  {
   "cell_type": "code",
   "execution_count": null,
   "metadata": {
    "collapsed": true
   },
   "outputs": [],
   "source": []
  },
  {
   "cell_type": "code",
   "execution_count": null,
   "metadata": {
    "collapsed": true
   },
   "outputs": [],
   "source": []
  },
  {
   "cell_type": "code",
   "execution_count": null,
   "metadata": {
    "collapsed": true
   },
   "outputs": [],
   "source": []
  },
  {
   "cell_type": "code",
   "execution_count": null,
   "metadata": {
    "collapsed": true
   },
   "outputs": [],
   "source": []
  },
  {
   "cell_type": "code",
   "execution_count": null,
   "metadata": {
    "collapsed": true
   },
   "outputs": [],
   "source": []
  },
  {
   "cell_type": "code",
   "execution_count": null,
   "metadata": {
    "collapsed": true
   },
   "outputs": [],
   "source": []
  },
  {
   "cell_type": "code",
   "execution_count": null,
   "metadata": {
    "collapsed": true
   },
   "outputs": [],
   "source": []
  },
  {
   "cell_type": "code",
   "execution_count": null,
   "metadata": {
    "collapsed": true
   },
   "outputs": [],
   "source": []
  },
  {
   "cell_type": "code",
   "execution_count": null,
   "metadata": {
    "collapsed": true
   },
   "outputs": [],
   "source": []
  },
  {
   "cell_type": "code",
   "execution_count": null,
   "metadata": {
    "collapsed": true
   },
   "outputs": [],
   "source": []
  },
  {
   "cell_type": "code",
   "execution_count": 228,
   "metadata": {
    "collapsed": false
   },
   "outputs": [],
   "source": [
    "singletrack =   np.array([[  4.00000000e+00,   6.94003245e+02,  -7.19971872e+02],\n",
    "       [  4.00000000e+00,   1.33854153e+03,  -1.48603721e+03],\n",
    "       [  4.00000000e+00,   1.93112680e+03,  -2.29581125e+03],\n",
    "       [  4.00000000e+00,   2.46925623e+03,  -3.14686728e+03],\n",
    "       [  4.00000000e+00,   2.95038324e+03,  -4.03673615e+03],\n",
    "       [  4.00000000e+00,   3.37190123e+03,  -4.96289049e+03],\n",
    "       [  4.00000000e+00,   3.73112574e+03,  -5.92272747e+03],\n",
    "       [  4.00000000e+00,   4.02527449e+03,  -6.91354940e+03]])"
   ]
  },
  {
   "cell_type": "code",
   "execution_count": null,
   "metadata": {
    "collapsed": false
   },
   "outputs": [],
   "source": []
  },
  {
   "cell_type": "code",
   "execution_count": 229,
   "metadata": {
    "collapsed": false
   },
   "outputs": [],
   "source": [
    "y=tracker.predict(X=singletrack[:,1:3])"
   ]
  },
  {
   "cell_type": "code",
   "execution_count": 230,
   "metadata": {
    "collapsed": false
   },
   "outputs": [
    {
     "data": {
      "text/plain": [
       "array([[  694.003245,  -719.971872],\n",
       "       [ 1338.54153 , -1486.03721 ],\n",
       "       [ 1931.1268  , -2295.81125 ],\n",
       "       [ 2469.25623 , -3146.86728 ],\n",
       "       [ 2950.38324 , -4036.73615 ],\n",
       "       [ 3371.90123 , -4962.89049 ],\n",
       "       [ 3731.12574 , -5922.72747 ],\n",
       "       [ 4025.27449 , -6913.5494  ]])"
      ]
     },
     "execution_count": 230,
     "metadata": {},
     "output_type": "execute_result"
    }
   ],
   "source": [
    "singletrack[:,1:3]"
   ]
  },
  {
   "cell_type": "code",
   "execution_count": 231,
   "metadata": {
    "collapsed": false
   },
   "outputs": [
    {
     "data": {
      "text/plain": [
       "array([-1, -1, -1, -1, -1, -1, -1, -1])"
      ]
     },
     "execution_count": 231,
     "metadata": {},
     "output_type": "execute_result"
    }
   ],
   "source": [
    "y"
   ]
  },
  {
   "cell_type": "code",
   "execution_count": 232,
   "metadata": {
    "collapsed": false
   },
   "outputs": [],
   "source": [
    "twotracks = np.array([[  4.00000000e+00,   6.94003245e+02,  -7.19971872e+02],\n",
    "       [  4.00000000e+00,   1.33854153e+03,  -1.48603721e+03],\n",
    "       [  4.00000000e+00,   1.93112680e+03,  -2.29581125e+03],\n",
    "       [  4.00000000e+00,   2.46925623e+03,  -3.14686728e+03],\n",
    "       [  4.00000000e+00,   2.95038324e+03,  -4.03673615e+03],\n",
    "       [  4.00000000e+00,   3.37190123e+03,  -4.96289049e+03],\n",
    "       [  4.00000000e+00,   3.73112574e+03,  -5.92272747e+03],\n",
    "       [  4.00000000e+00,   4.02527449e+03,  -6.91354940e+03],\n",
    "       [  8.00000000e+00,   9.12744875e+02,   4.08530039e+02],\n",
    "       [  8.00000000e+00,   1.82549010e+03,   8.17059292e+02],\n",
    "       [  8.00000000e+00,   2.73823533e+03,   1.22558854e+03],\n",
    "       [  8.00000000e+00,   3.65098056e+03,   1.63411780e+03],\n",
    "       [  8.00000000e+00,   4.56372578e+03,   2.04264705e+03],\n",
    "       [  8.00000000e+00,   5.47647101e+03,   2.45117630e+03],\n",
    "       [  8.00000000e+00,   6.38921624e+03,   2.85970555e+03],\n",
    "       [  8.00000000e+00,   7.30196147e+03,   3.26823481e+03]])"
   ]
  },
  {
   "cell_type": "code",
   "execution_count": 233,
   "metadata": {
    "collapsed": true
   },
   "outputs": [],
   "source": [
    "y=tracker.predict(X=twotracks[:,1:3])"
   ]
  },
  {
   "cell_type": "code",
   "execution_count": 234,
   "metadata": {
    "collapsed": false
   },
   "outputs": [
    {
     "data": {
      "text/plain": [
       "array([-1, -1, -1, -1, -1, -1, -1, -1, -1, -1, -1, -1, -1, -1, -1, -1])"
      ]
     },
     "execution_count": 234,
     "metadata": {},
     "output_type": "execute_result"
    }
   ],
   "source": [
    "y"
   ]
  },
  {
   "cell_type": "code",
   "execution_count": 235,
   "metadata": {
    "collapsed": false
   },
   "outputs": [],
   "source": [
    "y=tracker.predict(X=X_df.values)"
   ]
  },
  {
   "cell_type": "code",
   "execution_count": 236,
   "metadata": {
    "collapsed": false
   },
   "outputs": [
    {
     "data": {
      "text/plain": [
       "array([-1, -1, -1, -1, -1, -1, -1, -1, -1, -1, -1, -1, -1, -1, -1, -1, -1,\n",
       "       -1, -1, -1, -1, -1, -1, -1, -1, -1, -1, -1, -1, -1, -1, -1, -1, -1,\n",
       "       -1, -1, -1, -1, -1, -1, -1, -1, -1, -1, -1, -1, -1, -1, -1, -1, -1,\n",
       "       -1, -1, -1, -1, -1, -1, -1, -1, -1, -1, -1, -1, -1, -1, -1, -1, -1,\n",
       "       -1, -1, -1, -1, -1, -1, -1, -1, -1, -1, -1, -1])"
      ]
     },
     "execution_count": 236,
     "metadata": {},
     "output_type": "execute_result"
    }
   ],
   "source": [
    "y"
   ]
  },
  {
   "cell_type": "code",
   "execution_count": 237,
   "metadata": {
    "collapsed": false
   },
   "outputs": [
    {
     "data": {
      "text/plain": [
       "array([-1, -1, -1, -1, -1, -1, -1, -1, -1, -1, -1, -1, -1, -1, -1, -1, -1,\n",
       "       -1, -1, -1, -1, -1, -1, -1, -1, -1, -1, -1, -1, -1, -1, -1, -1, -1,\n",
       "       -1, -1, -1, -1, -1, -1, -1, -1, -1, -1, -1, -1, -1, -1, -1, -1, -1,\n",
       "       -1, -1, -1, -1, -1, -1, -1, -1, -1, -1, -1, -1, -1, -1, -1, -1, -1,\n",
       "       -1, -1, -1, -1, -1, -1, -1, -1, -1, -1, -1, -1])"
      ]
     },
     "execution_count": 237,
     "metadata": {},
     "output_type": "execute_result"
    }
   ],
   "source": [
    "tracker.cls.labels_"
   ]
  },
  {
   "cell_type": "code",
   "execution_count": null,
   "metadata": {
    "collapsed": true
   },
   "outputs": [],
   "source": []
  },
  {
   "cell_type": "code",
   "execution_count": null,
   "metadata": {
    "collapsed": false
   },
   "outputs": [],
   "source": []
  },
  {
   "cell_type": "code",
   "execution_count": 238,
   "metadata": {
    "collapsed": true
   },
   "outputs": [],
   "source": [
    "# POLAR COORDINATES"
   ]
  },
  {
   "cell_type": "code",
   "execution_count": null,
   "metadata": {
    "collapsed": true
   },
   "outputs": [],
   "source": []
  },
  {
   "cell_type": "code",
   "execution_count": 239,
   "metadata": {
    "collapsed": false
   },
   "outputs": [],
   "source": [
    "np_hits_polar = polar(twotracks[:,1:3])"
   ]
  },
  {
   "cell_type": "code",
   "execution_count": 240,
   "metadata": {
    "collapsed": false
   },
   "outputs": [
    {
     "data": {
      "text/plain": [
       "array([[ 1.        , -0.80376179],\n",
       "       [ 2.        , -0.83756942],\n",
       "       [ 3.        , -0.87146132],\n",
       "       [ 4.        , -0.90547233],\n",
       "       [ 5.        , -0.93964255],\n",
       "       [ 5.99999999, -0.97401443],\n",
       "       [ 7.        , -1.00863286],\n",
       "       [ 8.        , -1.04354563],\n",
       "       [ 1.        ,  0.420843  ],\n",
       "       [ 2.        ,  0.42084257],\n",
       "       [ 3.        ,  0.42084242],\n",
       "       [ 4.        ,  0.42084235],\n",
       "       [ 5.        ,  0.42084231],\n",
       "       [ 6.        ,  0.42084228],\n",
       "       [ 7.        ,  0.42084226],\n",
       "       [ 8.00000001,  0.42084224]])"
      ]
     },
     "execution_count": 240,
     "metadata": {},
     "output_type": "execute_result"
    }
   ],
   "source": [
    "np_hits_polar"
   ]
  },
  {
   "cell_type": "code",
   "execution_count": 246,
   "metadata": {
    "collapsed": false
   },
   "outputs": [],
   "source": [
    "tracker.fit(X_df.values, y_df.values)"
   ]
  },
  {
   "cell_type": "code",
   "execution_count": 247,
   "metadata": {
    "collapsed": false
   },
   "outputs": [],
   "source": [
    "y=cls.fit_predict(X=polar(twotracks[:,1:3]))"
   ]
  },
  {
   "cell_type": "code",
   "execution_count": 248,
   "metadata": {
    "collapsed": false
   },
   "outputs": [
    {
     "data": {
      "text/plain": [
       "array([-1, -1, -1, -1, -1, -1, -1, -1, -1, -1, -1, -1, -1, -1, -1, -1])"
      ]
     },
     "execution_count": 248,
     "metadata": {},
     "output_type": "execute_result"
    }
   ],
   "source": [
    "y"
   ]
  },
  {
   "cell_type": "code",
   "execution_count": 249,
   "metadata": {
    "collapsed": false
   },
   "outputs": [
    {
     "data": {
      "text/plain": [
       "<matplotlib.collections.PathCollection at 0x10e997690>"
      ]
     },
     "execution_count": 249,
     "metadata": {},
     "output_type": "execute_result"
    }
   ],
   "source": [
    " plt.scatter(np_hits_xy[:,1],np_hits_xy[:,0])"
   ]
  },
  {
   "cell_type": "code",
   "execution_count": 145,
   "metadata": {
    "collapsed": false
   },
   "outputs": [
    {
     "data": {
      "image/png": "[encoded data removed]",
      "text/plain": [
       "<matplotlib.figure.Figure at 0x10edac1d0>"
      ]
     },
     "metadata": {},
     "output_type": "display_data"
    }
   ],
   "source": [
    "plt.show()"
   ]
  },
  {
   "cell_type": "code",
   "execution_count": 146,
   "metadata": {
    "collapsed": false
   },
   "outputs": [
    {
     "data": {
      "text/plain": [
       "<matplotlib.collections.PathCollection at 0x10eeaabd0>"
      ]
     },
     "execution_count": 146,
     "metadata": {},
     "output_type": "execute_result"
    }
   ],
   "source": [
    " plt.scatter(np_hits_polar[:,1],np_hits_polar[:,0])"
   ]
  },
  {
   "cell_type": "code",
   "execution_count": 147,
   "metadata": {
    "collapsed": false
   },
   "outputs": [
    {
     "data": {
      "text/plain": [
       "(-0.0001, 0.001)"
      ]
     },
     "execution_count": 147,
     "metadata": {},
     "output_type": "execute_result"
    }
   ],
   "source": [
    "plt.xlim([-np.pi,np.pi])\n",
    "plt.ylim([-0.0001,0.001])"
   ]
  },
  {
   "cell_type": "code",
   "execution_count": 148,
   "metadata": {
    "collapsed": false
   },
   "outputs": [
    {
     "data": {
      "text/plain": [
       "<matplotlib.collections.PathCollection at 0x10ee87890>"
      ]
     },
     "execution_count": 148,
     "metadata": {},
     "output_type": "execute_result"
    }
   ],
   "source": [
    " plt.scatter(np_hits_polar[:,1],np_hits_polar[:,0])"
   ]
  },
  {
   "cell_type": "code",
   "execution_count": 149,
   "metadata": {
    "collapsed": false
   },
   "outputs": [
    {
     "data": {
      "image/png": "[encoded data removed]",
      "text/plain": [
       "<matplotlib.figure.Figure at 0x10ee87550>"
      ]
     },
     "metadata": {},
     "output_type": "display_data"
    }
   ],
   "source": [
    "plt.show()"
   ]
  },
  {
   "cell_type": "code",
   "execution_count": 157,
   "metadata": {
    "collapsed": false
   },
   "outputs": [
    {
     "data": {
      "text/plain": [
       "array([-1, -1, -1, -1, -1, -1, -1, -1, -1, -1, -1, -1, -1, -1, -1, -1,  0,\n",
       "        0,  0,  0,  0,  0,  0,  0, -1, -1, -1, -1, -1, -1, -1, -1, -1, -1,\n",
       "       -1, -1, -1, -1,  1, -1,  1,  1,  1,  1,  1,  1,  1,  1, -1, -1, -1,\n",
       "       -1, -1, -1, -1, -1,  2,  2,  2,  2,  2,  2,  2,  2, -1, -1, -1, -1,\n",
       "       -1, -1, -1, -1, -1, -1, -1, -1, -1, -1, -1, -1])"
      ]
     },
     "execution_count": 157,
     "metadata": {},
     "output_type": "execute_result"
    }
   ],
   "source": [
    "tracker.fit_predict(X=np_hits_polar)"
   ]
  },
  {
   "cell_type": "code",
   "execution_count": 151,
   "metadata": {
    "collapsed": false
   },
   "outputs": [
    {
     "data": {
      "text/plain": [
       "array([-1, -1, -1, -1, -1, -1, -1, -1, -1, -1, -1, -1, -1, -1, -1, -1,  0,\n",
       "        0,  0,  0,  0,  0,  0,  0, -1, -1, -1, -1, -1, -1, -1, -1, -1, -1,\n",
       "       -1, -1, -1, -1,  1, -1,  1,  1,  1,  1,  1,  1,  1,  1, -1, -1, -1,\n",
       "       -1, -1, -1, -1, -1,  2,  2,  2,  2,  2,  2,  2,  2, -1, -1, -1, -1,\n",
       "       -1, -1, -1, -1, -1, -1, -1, -1, -1, -1, -1, -1])"
      ]
     },
     "execution_count": 151,
     "metadata": {},
     "output_type": "execute_result"
    }
   ],
   "source": [
    "y"
   ]
  },
  {
   "cell_type": "code",
   "execution_count": null,
   "metadata": {
    "collapsed": true
   },
   "outputs": [],
   "source": []
  },
  {
   "cell_type": "code",
   "execution_count": null,
   "metadata": {
    "collapsed": true
   },
   "outputs": [],
   "source": []
  },
  {
   "cell_type": "code",
   "execution_count": null,
   "metadata": {
    "collapsed": true
   },
   "outputs": [],
   "source": []
  },
  {
   "cell_type": "code",
   "execution_count": null,
   "metadata": {
    "collapsed": true
   },
   "outputs": [],
   "source": []
  },
  {
   "cell_type": "code",
   "execution_count": null,
   "metadata": {
    "collapsed": true
   },
   "outputs": [],
   "source": []
  },
  {
   "cell_type": "code",
   "execution_count": null,
   "metadata": {
    "collapsed": true
   },
   "outputs": [],
   "source": []
  },
  {
   "cell_type": "code",
   "execution_count": null,
   "metadata": {
    "collapsed": true
   },
   "outputs": [],
   "source": []
  },
  {
   "cell_type": "code",
   "execution_count": null,
   "metadata": {
    "collapsed": true
   },
   "outputs": [],
   "source": []
  },
  {
   "cell_type": "code",
   "execution_count": null,
   "metadata": {
    "collapsed": true
   },
   "outputs": [],
   "source": []
  }
 ],
 "metadata": {
  "kernelspec": {
   "display_name": "Python 2",
   "language": "python",
   "name": "python2"
  },
  "language_info": {
   "codemirror_mode": {
    "name": "ipython",
    "version": 2
   },
   "file_extension": ".py",
   "mimetype": "text/x-python",
   "name": "python",
   "nbconvert_exporter": "python",
   "pygments_lexer": "ipython2",
   "version": "2.7.6"
  }
 },
 "nbformat": 4,
 "nbformat_minor": 0
}
